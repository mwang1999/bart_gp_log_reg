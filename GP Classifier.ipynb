{
 "cells": [
  {
   "cell_type": "code",
   "execution_count": 16,
   "metadata": {
    "scrolled": true
   },
   "outputs": [],
   "source": [
    "#Import libraries\n",
    "import numpy as np\n",
    "import pandas as pd\n",
    "import matplotlib.pyplot as plt\n",
    "from sklearn.gaussian_process import GaussianProcessClassifier\n",
    "from sklearn.gaussian_process.kernels import RBF\n",
    "from sklearn import metrics\n",
    "import seaborn as sn"
   ]
  },
  {
   "cell_type": "code",
   "execution_count": 13,
   "metadata": {},
   "outputs": [],
   "source": [
    "#Importing data\n",
    "x_train= pd.read_csv(\"x_train_py.csv\")\n",
    "#Removing the extra index column\n",
    "x_train = x_train[x_train.columns.drop('Unnamed: 0')]\n",
    "#Importing data\n",
    "x_test = pd.read_csv(\"x_test_py.csv\")\n",
    "#Removing the extra index column\n",
    "x_test = x_test[x_test.columns.drop('Unnamed: 0')]\n",
    "#Importing data\n",
    "y_train = pd.read_csv(\"y_train_py.csv\")\n",
    "#Removing the extra index column\n",
    "y_train = y_train[y_train.columns[1]]\n",
    "#Importing data\n",
    "y_test = pd.read_csv(\"y_test_py.csv\")\n",
    "#Removing the extra index column\n",
    "y_test= y_test[y_test.columns[1]] "
   ]
  },
  {
   "cell_type": "code",
   "execution_count": 14,
   "metadata": {},
   "outputs": [
    {
     "data": {
      "text/plain": [
       "0.9590643274853801"
      ]
     },
     "execution_count": 14,
     "metadata": {},
     "output_type": "execute_result"
    }
   ],
   "source": [
    "#Define RBF kernel with length 1\n",
    "kernel = 1.0 * RBF(1.0)\n",
    "#Define Gaussian Process Classifier\n",
    "gpc = GaussianProcessClassifier(kernel=kernel,random_state=0).fit(x_train, y_train)\n",
    "#Testing Gaussian Process Classifier\n",
    "gpc.score(x_test, y_test)"
   ]
  },
  {
   "cell_type": "code",
   "execution_count": 27,
   "metadata": {},
   "outputs": [
    {
     "data": {
      "image/png": "[encoded data removed]",
      "text/plain": [
       "<Figure size 432x288 with 2 Axes>"
      ]
     },
     "metadata": {
      "needs_background": "light"
     },
     "output_type": "display_data"
    }
   ],
   "source": [
    "#Defining and plotting confusion matr\n",
    "confusion_matrix = metrics.confusion_matrix(y_test, gpc.predict(x_test))\n",
    "\n",
    "s = sn.heatmap(confusion_matrix, annot=True,cmap=\"Greens\")\n",
    "s.set_xlabel(\"True Value\")\n",
    "s.set_ylabel(\"Predicted Value\")\n",
    "s.invert_yaxis()"
   ]
  }
 ],
 "metadata": {
  "kernelspec": {
   "display_name": "Python 3",
   "language": "python",
   "name": "python3"
  },
  "language_info": {
   "codemirror_mode": {
    "name": "ipython",
    "version": 3
   },
   "file_extension": ".py",
   "mimetype": "text/x-python",
   "name": "python",
   "nbconvert_exporter": "python",
   "pygments_lexer": "ipython3",
   "version": "3.8.5"
  }
 },
 "nbformat": 4,
 "nbformat_minor": 4
}
